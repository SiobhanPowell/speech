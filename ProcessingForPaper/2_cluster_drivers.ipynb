{
 "cells": [
  {
   "cell_type": "markdown",
   "metadata": {},
   "source": [
    "\"\"\"\n",
    "SPEECh: Scalable Probabilistic Estimates of EV Charging\n",
    "\n",
    "Code first published in October 2021.\n",
    "\n",
    "Developed by Siobhan Powell (siobhan.powell@stanford.edu).\n",
    "\"\"\""
   ]
  },
  {
   "cell_type": "markdown",
   "metadata": {},
   "source": [
    "# Cluster drivers"
   ]
  },
  {
   "cell_type": "code",
   "execution_count": null,
   "metadata": {},
   "outputs": [],
   "source": [
    "s3_bucket_folder_address = '' # contained the location of our data"
   ]
  },
  {
   "cell_type": "code",
   "execution_count": 1,
   "metadata": {},
   "outputs": [],
   "source": [
    "import pandas as pd\n",
    "import numpy as np\n",
    "import matplotlib.pyplot as plt\n",
    "import boto3\n",
    "from sklearn.cluster import KMeans\n",
    "from sklearn.cluster import AgglomerativeClustering\n",
    "from sklearn.mixture import GaussianMixture as GMM"
   ]
  },
  {
   "cell_type": "markdown",
   "metadata": {},
   "source": [
    "## Load data"
   ]
  },
  {
   "cell_type": "code",
   "execution_count": 2,
   "metadata": {},
   "outputs": [],
   "source": [
    "year = '2019'\n",
    "driver_subset = pd.read_csv(s3_bucket_folder_address+'sessions'+year+'_driverdata_revised.csv', index_col=0)"
   ]
  },
  {
   "cell_type": "code",
   "execution_count": 4,
   "metadata": {},
   "outputs": [
    {
     "data": {
      "text/plain": [
       "Index(['MUD - Session energy - mean', 'MUD - Session time - mean',\n",
       "       'MUD - Start hour - mean', 'MUD - Weekend fraction'],\n",
       "      dtype='object')"
      ]
     },
     "execution_count": 4,
     "metadata": {},
     "output_type": "execute_result"
    }
   ],
   "source": [
    "cols_driver = driver_subset.columns[[2, 3]]\n",
    "cols_cts = driver_subset.columns[[4, 5, 6, 7, 8]]\n",
    "cols_work = driver_subset.columns[[9, 10, 11, 12]]\n",
    "cols_mud = driver_subset.columns[[17, 18, 19, 20]]\n",
    "cols_other_slow = driver_subset.columns[[25, 26, 27, 28]]\n",
    "cols_home = driver_subset.columns[[33, 34, 35, 36]]\n",
    "cols_other_fast = driver_subset.columns[[41, 42, 43, 44]]\n",
    "cols_other_fast"
   ]
  },
  {
   "cell_type": "code",
   "execution_count": 5,
   "metadata": {},
   "outputs": [],
   "source": [
    "main_cols = np.concatenate((cols_driver, cols_cts, cols_work, cols_home, cols_other_slow, cols_other_fast, cols_mud))"
   ]
  },
  {
   "cell_type": "code",
   "execution_count": 6,
   "metadata": {},
   "outputs": [
    {
     "data": {
      "text/plain": [
       "array(['Num Zip Codes', 'Battery Capacity', 'Num Workplace Sessions',\n",
       "       'Num Single Family Residential Sessions', 'Num MUD Sessions',\n",
       "       'Num Other Slow Sessions', 'Num Other Fast Sessions',\n",
       "       'Work - Session energy - mean', 'Work - Session time - mean',\n",
       "       'Work - Start hour - mean', 'Work - Weekend fraction',\n",
       "       'Other Fast - Session energy - mean',\n",
       "       'Other Fast - Session time - mean',\n",
       "       'Other Fast - Start hour - mean', 'Other Fast - Weekend fraction',\n",
       "       'Other Slow - Session energy - mean',\n",
       "       'Other Slow - Session time - mean',\n",
       "       'Other Slow - Start hour - mean', 'Other Slow - Weekend fraction',\n",
       "       'MUD - Session energy - mean', 'MUD - Session time - mean',\n",
       "       'MUD - Start hour - mean', 'MUD - Weekend fraction',\n",
       "       'Home - Session energy - mean', 'Home - Session time - mean',\n",
       "       'Home - Start hour - mean', 'Home - Weekend fraction'],\n",
       "      dtype=object)"
      ]
     },
     "execution_count": 6,
     "metadata": {},
     "output_type": "execute_result"
    }
   ],
   "source": [
    "main_cols"
   ]
  },
  {
   "cell_type": "markdown",
   "metadata": {},
   "source": [
    "## Clean and normalize"
   ]
  },
  {
   "cell_type": "code",
   "execution_count": 7,
   "metadata": {},
   "outputs": [],
   "source": [
    "for col in main_cols:\n",
    "    nanct = sum(np.isnan(driver_subset[col].values))\n",
    "    if nanct > 0:\n",
    "        print(col)"
   ]
  },
  {
   "cell_type": "code",
   "execution_count": 8,
   "metadata": {},
   "outputs": [
    {
     "name": "stdout",
     "output_type": "stream",
     "text": [
      "Num before:  38265\n",
      "Num after:  38265\n"
     ]
    }
   ],
   "source": [
    "print('Num before: ',driver_subset.shape[0])\n",
    "driver_subset = driver_subset.dropna(axis=0, subset=main_cols)\n",
    "print('Num after: ',driver_subset.shape[0])"
   ]
  },
  {
   "cell_type": "code",
   "execution_count": null,
   "metadata": {},
   "outputs": [],
   "source": [
    "def normalize_df(df, cols_keep):\n",
    "    \n",
    "    scaling_df = {'Col':[], 'Shift':[], 'Denom':[]}\n",
    "    df_here = df.loc[:, cols_keep]\n",
    "    for col in cols_keep:\n",
    "        scaling_df['Col'].append(col)\n",
    "        scaling_df['Shift'].append(df_here[col].min())\n",
    "        scaling_df['Denom'].append(df_here[col].max()-df_here[col].min())\n",
    "        df_here[col] = (df_here[col]-df_here[col].min())/(df_here[col].max()-df_here[col].min())\n",
    "    scaling_df = pd.DataFrame(scaling_df)\n",
    "\n",
    "    return df_here, scaling_df\n"
   ]
  },
  {
   "cell_type": "code",
   "execution_count": 17,
   "metadata": {},
   "outputs": [],
   "source": [
    "X_df, scaling_df = normalize_df(driver_subset, main_cols)"
   ]
  },
  {
   "cell_type": "markdown",
   "metadata": {},
   "source": [
    "## Hierarchical clustering"
   ]
  },
  {
   "cell_type": "code",
   "execution_count": 26,
   "metadata": {},
   "outputs": [],
   "source": [
    "import scipy.cluster.hierarchy as shc"
   ]
  },
  {
   "cell_type": "code",
   "execution_count": 27,
   "metadata": {},
   "outputs": [],
   "source": [
    "linkage = shc.linkage(X_df, method='ward')"
   ]
  },
  {
   "cell_type": "code",
   "execution_count": 29,
   "metadata": {},
   "outputs": [],
   "source": [
    "np.save('linkage_matrix_2019.npy', linkage)"
   ]
  },
  {
   "cell_type": "code",
   "execution_count": 72,
   "metadata": {},
   "outputs": [
    {
     "data": {
      "image/png": "[encoded data removed]",
      "text/plain": [
       "<Figure size 432x288 with 1 Axes>"
      ]
     },
     "metadata": {
      "needs_background": "light"
     },
     "output_type": "display_data"
    }
   ],
   "source": [
    "dend = shc.dendrogram(linkage, truncate_mode='lastp', p=50, show_leaf_counts=True)"
   ]
  },
  {
   "cell_type": "code",
   "execution_count": 61,
   "metadata": {},
   "outputs": [
    {
     "data": {
      "image/png": "[encoded data removed]",
      "text/plain": [
       "<Figure size 432x288 with 1 Axes>"
      ]
     },
     "metadata": {
      "needs_background": "light"
     },
     "output_type": "display_data"
    }
   ],
   "source": [
    "heights1 = []\n",
    "heights2 = []\n",
    "oldmin = np.max(np.max(dend['dcoord'], axis=1))\n",
    "nks = np.arange(3, 200)\n",
    "for nk in nks:\n",
    "    dend = shc.dendrogram(linkage, truncate_mode='lastp', p=int(nk), show_leaf_counts=True)\n",
    "    heights1.append(oldmin - np.min(np.max(dend['dcoord'], axis=1)))#np.max(dend['dcoord'], axis=1)[1] - np.max(dend['dcoord'], axis=1)[0])#np.max(np.max(dend['dcoord'], axis=1)) - np.min(np.max(dend['dcoord'], axis=1)))\n",
    "    heights2.append(np.max(np.max(dend['dcoord'], axis=1)) - np.min(np.max(dend['dcoord'], axis=1)))\n",
    "    oldmin = np.min(np.max(dend['dcoord'], axis=1))"
   ]
  },
  {
   "cell_type": "code",
   "execution_count": 74,
   "metadata": {},
   "outputs": [
    {
     "data": {
      "image/png": "[encoded data removed]",
      "text/plain": [
       "<Figure size 432x288 with 1 Axes>"
      ]
     },
     "metadata": {
      "needs_background": "light"
     },
     "output_type": "display_data"
    }
   ],
   "source": [
    "plt.figure()\n",
    "plt.plot(nks, np.max(heights2)-heights2)\n",
    "plt.xlabel('Num clusters')\n",
    "plt.ylabel('Distance')\n",
    "plt.show()\n",
    "\n",
    "# close investigation of distance used to select optimal number of clusters"
   ]
  },
  {
   "cell_type": "code",
   "execution_count": 75,
   "metadata": {},
   "outputs": [],
   "source": [
    "num_clusters = 16\n",
    "ac = AgglomerativeClustering(n_clusters=num_clusters, affinity='euclidean', linkage='ward').fit_predict(X_df.values)"
   ]
  },
  {
   "cell_type": "code",
   "execution_count": 76,
   "metadata": {},
   "outputs": [],
   "source": [
    "s3_bucket = ''\n",
    "s3_folder = ''\n",
    "\n",
    "np.save('linkage_matrix.npy', linkage)\n",
    "s3 = boto3.client('s3')\n",
    "s3.upload_file('linkage_matrix.npy', s3_bucket, s3_folder+'2019_linkage_revised.npy')"
   ]
  },
  {
   "cell_type": "code",
   "execution_count": 81,
   "metadata": {},
   "outputs": [],
   "source": [
    "X_df['Agglom Cluster Number'] = ac\n",
    "X_df.to_csv(s3_bucket_folder_address+'2019_scaled_revised.csv')\n",
    "driver_subset['Agglom Cluster Number'] = ac\n",
    "driver_subset.to_csv(s3_bucket_folder_address+'2019_unscaled_revised.csv')\n"
   ]
  },
  {
   "cell_type": "markdown",
   "metadata": {},
   "source": [
    "# Plot dendrogram"
   ]
  },
  {
   "cell_type": "code",
   "execution_count": null,
   "metadata": {},
   "outputs": [],
   "source": [
    "shc.set_link_color_palette(['#d7191c', '#fdae61', '#fee08b', '#abdda4', '#2b83ba'])\n",
    "fig, ax = plt.subplots(figsize=(15,5))\n",
    "labs_here = ['Small batt', 'Mixed batt', 'Large batt', '+ Work', '+ Public', '+ Work and Public', 'High Energy, W > P', 'Short, Afternoon, P > W', 'W >> P', 'MUD', 'High energy', 'Low energy + weekends', 'Low energy + home', '+ Fast', 'Low energy, W + P', 'W > P']#'WP & Some Other, small batt, frequent WP', 'WP & Some Other, small batt, less frequent WP', 'Includes Single Fam Res', 'Other & Some WP, big battery OR includes MUD', 'Other & Some WP, small battery']\n",
    "dend = shc.dendrogram(linkage, truncate_mode='lastp', p=16, show_leaf_counts=True, count_sort='ascending', color_threshold=47, ax=ax)\n",
    "ax.set_xticklabels(labs_here, rotation=20, ha=\"right\", rotation_mode=\"anchor\")\n",
    "ax.text(13, 60, s='Only Workplace', fontsize=14)\n",
    "ax.text(40, 60, s='Mainly Residential', fontsize=14)\n",
    "ax.text(90, 60, s='Public and Workplace', fontsize=14)\n",
    "ax.text(79, 32, s='Large Battery', fontsize=14)\n",
    "ax.text(112, 32, s='Mainly Public', fontsize=14)\n",
    "ax.text(144, 32, s='Small Battery', fontsize=14)\n",
    "ax.set_yticks([])\n",
    "plt.tight_layout()\n",
    "# plt.savefig('Revised_Cluster_Interpretation2.pdf', bbox_inches='tight')\n",
    "plt.show()\n"
   ]
  }
 ],
 "metadata": {
  "kernelspec": {
   "display_name": "Python 3",
   "language": "python",
   "name": "python3"
  },
  "language_info": {
   "codemirror_mode": {
    "name": "ipython",
    "version": 3
   },
   "file_extension": ".py",
   "mimetype": "text/x-python",
   "name": "python",
   "nbconvert_exporter": "python",
   "pygments_lexer": "ipython3",
   "version": "3.7.4"
  }
 },
 "nbformat": 4,
 "nbformat_minor": 2
}
