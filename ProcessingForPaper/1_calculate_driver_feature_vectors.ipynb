{
 "cells": [
  {
   "cell_type": "markdown",
   "metadata": {},
   "source": [
    "\"\"\"\n",
    "SPEECh: Scalable Probabilistic Estimates of EV Charging\n",
    "\n",
    "Code first published in October 2021.\n",
    "\n",
    "Developed by Siobhan Powell (siobhan.powell@stanford.edu).\n",
    "\"\"\""
   ]
  },
  {
   "cell_type": "markdown",
   "metadata": {},
   "source": [
    "# Process driver data\n",
    "## prepare feature vector for each driver"
   ]
  },
  {
   "cell_type": "code",
   "execution_count": null,
   "metadata": {},
   "outputs": [],
   "source": [
    "s3_bucket_folder_address = '' # contained the location of our data"
   ]
  },
  {
   "cell_type": "code",
   "execution_count": 3,
   "metadata": {},
   "outputs": [],
   "source": [
    "import pandas as pd\n",
    "import numpy as np\n",
    "import matplotlib.pyplot as plt\n",
    "import boto3"
   ]
  },
  {
   "cell_type": "code",
   "execution_count": null,
   "metadata": {},
   "outputs": [],
   "source": [
    "weekdays_ct = {'2015':5*52+1, '2016':5*52+1, '2017':5*52, '2018':5*52+1, '2019':5*52+1, '2020':5*52+2}\n",
    "weekends_ct = {'2015':2*52, '2016':2*52+1, '2017':2*52+1, '2018':2*52, '2019': 2*52, '2020':2*52}\n",
    "\n",
    "# for year in ['2019', '2015', '2016', '2017', '2018', '2020']:\n",
    "year = '2019'\n",
    "\n",
    "print(year)\n",
    "data = pd.read_csv(s3_bucket_folder_address+'sessions'+year+'.csv', index_col=0)\n",
    "\n",
    "print('Num sessions: ', len(data))\n",
    "drivers = list(set(data['Driver ID']))\n",
    "print('Num drivers: ', len(drivers))\n",
    "\n",
    "keep_drivers = []\n",
    "all_drivers = list(set(data['Driver ID']))\n",
    "print('Total number of drivers: ', len(all_drivers))\n",
    "for i in range(len(all_drivers)):\n",
    "    if np.mod(i, 10000) == 0:\n",
    "        print('On driver ', i)\n",
    "    driver = all_drivers[i]\n",
    "    subsub = data[data['Driver ID']==driver]\n",
    "    if subsub['Energy (kWh)'].max() <= min(list(set(subsub['Battery Capacity']))):\n",
    "        keep_drivers.append(driver)\n",
    "\n",
    "print('Keeping fraction: ', len(keep_drivers) / len(drivers))\n",
    "\n",
    "driver_stats = pd.DataFrame({'Unique Driver ID':[0]}, index=[0])\n",
    "\n",
    "weekdays_2019 = weekdays_ct[year]\n",
    "weekends_2019 = weekends_ct[year]\n",
    "\n",
    "i = 0\n",
    "for ct in range(len(keep_drivers)):\n",
    "    driver = keep_drivers[ct]\n",
    "    subset = data[data['Driver ID']==driver]\n",
    "    subset = subset.sort_values(by='start_day')\n",
    "    if len(subset) >= 25:\n",
    "\n",
    "        driver_stats.loc[i, 'Unique Driver ID'] = driver\n",
    "\n",
    "        driver_stats.loc[i, 'Num Sessions'] = len(subset)\n",
    "        driver_stats.loc[i, 'Num Zip Codes'] = len(set(subset['Zip Code']))\n",
    "        driver_stats.loc[i, 'Battery Capacity'] = min(list(set(subset['Battery Capacity'])))\n",
    "\n",
    "        wp_set = subset[subset['POI Category']=='Workplace']\n",
    "        res_set = subset[subset['POI Category']=='Single family residential']\n",
    "        mud_set = subset[subset['POI Category']=='Multifamily Home Service']\n",
    "        other_set = subset[subset['POI Category'].isin(['Education', 'Utility', 'Retail', 'Parking', 'Healthcare', 'Municipal', 'Multifamily Commercial', 'Parks and Recreation', 'Hospitality', 'Government (Fed, State)'])]\n",
    "        other_slow_set = other_set[other_set['Max Power']<20]\n",
    "        other_fast_set = other_set[other_set['Max Power']>=20]\n",
    "\n",
    "        driver_stats.loc[i, 'Num Workplace Sessions'] = len(wp_set)\n",
    "        driver_stats.loc[i, 'Num Single Family Residential Sessions'] = len(res_set)\n",
    "        driver_stats.loc[i, 'Num MUD Sessions'] = len(mud_set)\n",
    "        driver_stats.loc[i, 'Num Other Slow Sessions'] = len(other_slow_set)\n",
    "        driver_stats.loc[i, 'Num Other Fast Sessions'] = len(other_fast_set)\n",
    "\n",
    "        loc_dict = {'Home':res_set, 'Work':wp_set, 'Other Slow':other_slow_set, 'Other Fast':other_fast_set, 'MUD':mud_set}\n",
    "        for location in ['Work', 'Home', 'Other Slow', 'Other Fast', 'MUD']:\n",
    "            subsub = loc_dict[location]\n",
    "            if len(subsub) > 0:\n",
    "                driver_stats.loc[i, location+' - Session energy - mean'] = subsub['Energy (kWh)'].mean()\n",
    "                driver_stats.loc[i, location+' - Session time - mean'] = ((1/3600)*(subsub['Session Time (secs)'])).mean()\n",
    "                driver_stats.loc[i, location+' - Start hour - mean'] = ((1/3600)*(subsub['start_seconds'])).mean()\n",
    "\n",
    "                weekday_subsub = subsub[subsub['start_weekday'].isin([0, 1, 2, 3, 4])]\n",
    "                weekend_subsub = subsub[subsub['start_weekday'].isin([5, 6])]\n",
    "\n",
    "                driver_stats.loc[i, location+' - Weekend fraction'] = len(weekend_subsub) / len(subset)\n",
    "\n",
    "                driver_stats.loc[i, location+' - Average sessions per weekday'] = len(weekday_subsub) / weekdays_2019\n",
    "                driver_stats.loc[i, location+' - Average sessions per weekendday'] = len(weekend_subsub) / weekends_2019\n",
    "                driver_stats.loc[i, location+' - Fraction of weekdays with session'] = len(set(weekday_subsub['start_day']))/weekdays_2019\n",
    "                driver_stats.loc[i, location+' - Fraction of weekenddays with session'] = len(set(weekend_subsub['start_day']))/weekends_2019\n",
    "\n",
    "            else:\n",
    "                driver_stats.loc[i, location+' - Session energy - mean'] = 0\n",
    "                driver_stats.loc[i, location+' - Session time - mean'] = 0\n",
    "                driver_stats.loc[i, location+' - Start hour - mean'] = 0\n",
    "                driver_stats.loc[i, location+' - Weekend fraction'] = 0\n",
    "                driver_stats.loc[i, location+' - Average sessions per weekday'] = 0\n",
    "                driver_stats.loc[i, location+' - Average sessions per weekendday'] = 0\n",
    "                driver_stats.loc[i, location+' - Fraction of weekdays with session'] = 0\n",
    "                driver_stats.loc[i, location+' - Fraction of weekenddays with session'] = 0\n",
    "\n",
    "\n",
    "        i += 1\n",
    "\n",
    "driver_stats.to_csv(s3_bucket_folder_address+'sessions'+year+'_driverdata_revised.csv')\n",
    "print('Number of drivers:', len(driver_stats))\n",
    "\n",
    "\n"
   ]
  }
 ],
 "metadata": {
  "kernelspec": {
   "display_name": "Python 3",
   "language": "python",
   "name": "python3"
  },
  "language_info": {
   "codemirror_mode": {
    "name": "ipython",
    "version": 3
   },
   "file_extension": ".py",
   "mimetype": "text/x-python",
   "name": "python",
   "nbconvert_exporter": "python",
   "pygments_lexer": "ipython3",
   "version": "3.7.4"
  }
 },
 "nbformat": 4,
 "nbformat_minor": 4
}
