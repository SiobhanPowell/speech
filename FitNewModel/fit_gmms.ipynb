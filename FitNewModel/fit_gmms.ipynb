{
 "cells": [
  {
   "cell_type": "code",
   "execution_count": null,
   "metadata": {},
   "outputs": [],
   "source": [
    "num_clusters = 16  # *fill in with selected number of driver clusters*\n",
    "data_folder = 'Folder/'  # *fill in with data location*\n",
    "year = '2019'"
   ]
  },
  {
   "cell_type": "markdown",
   "metadata": {},
   "source": [
    "# Sessions model: fit the gmm"
   ]
  },
  {
   "cell_type": "code",
   "execution_count": 1,
   "metadata": {},
   "outputs": [],
   "source": [
    "import pandas as pd\n",
    "import numpy as np\n",
    "import matplotlib.pyplot as plt\n",
    "from sklearn.mixture import GaussianMixture as GMM\n",
    "import pickle\n",
    "import os\n",
    "import shutil"
   ]
  },
  {
   "cell_type": "code",
   "execution_count": null,
   "metadata": {},
   "outputs": [],
   "source": [
    "# make new folders\n",
    "if not os.isdir('NewData'):\n",
    "    os.mkdir('NewData')\n",
    "os.mkdir('NewData/All_GMMs')\n",
    "os.mkdir('NewData/GMMs')"
   ]
  },
  {
   "cell_type": "markdown",
   "metadata": {},
   "source": [
    "# Prepare Data"
   ]
  },
  {
   "cell_type": "code",
   "execution_count": null,
   "metadata": {},
   "outputs": [],
   "source": [
    "full_data = pd.read_csv(folder+'sessions'+year+'.csv', index_col=0)\n",
    "labeled_drivers = pd.read_csv(folder+'sessions'+year+'_driverdata_unscaled_withlabels.csv', index_col=0)"
   ]
  },
  {
   "cell_type": "code",
   "execution_count": 9,
   "metadata": {},
   "outputs": [],
   "source": [
    "def process_df(df2):\n",
    "    \n",
    "    df2.loc[df2.index, 'start'] = np.clip(df2.loc[df2.index, 'start_seconds'].values, 0, 24*60*60)\n",
    "    df2.loc[df2.index, 'energy'] = np.clip(df2.loc[df2.index, 'Energy (kWh)'].values, 0, 100)\n",
    "    df2.loc[df2.index, 'duration'] = np.clip(df2.loc[df2.index, 'Session Time (secs)'].values, 0, 48*60*60)\n",
    "    df2.loc[df2.index, 'location'] = 'other'\n",
    "    df2.loc[df2[df2['POI Category']=='Single family residential'].index, 'location'] = 'home'\n",
    "    df2.loc[df2[df2['POI Category']=='Workplace'].index, 'location'] = 'work'\n",
    "    df2.loc[df2[df2['POI Category'].isin(['Multifamily Commercial', 'Multifamily Home Service'])].index, 'location'] = 'mud'\n",
    "    df2.loc[df2.index, 'weekend'] = 'weekday'\n",
    "    df2.loc[df2[df2['start_weekday'].isin([5, 6])].index, 'weekend'] = 'weekend'\n",
    "    df2.loc[df2.index, 'fast'] = 'slow'\n",
    "    df2.loc[df2[df2['Max Power']>20].index, 'fast'] = 'fast'\n",
    "    \n",
    "    return df2"
   ]
  },
  {
   "cell_type": "markdown",
   "metadata": {},
   "source": [
    "## Create GMMs"
   ]
  },
  {
   "cell_type": "code",
   "execution_count": null,
   "metadata": {},
   "outputs": [],
   "source": [
    "def fit_gmm(subset, name_str, folder):\n",
    "    \n",
    "    mat = subset[['start', 'energy', 'duration']].values\n",
    "    \n",
    "    fit_data = {'num_components':[3, 4, 5, 6, 7, 8, 9, 10], 'aic':[]}\n",
    "    for num_components in [3, 4, 5, 6, 7, 8, 9, 10]:\n",
    "        gm = GaussianMixture(n_components=num_components).fit(mat)\n",
    "        fit_data['aic'].append(gm.aic(mat))\n",
    "        pickle.dump(gm, open(folder+name_str+'_'+str(num_components)+'components_gmm.p', \"wb\"))        \n",
    "    pd.DataFrame(fit_data).to_csv(folder+name_str+'_aic.csv')\n",
    "        \n",
    "    return"
   ]
  },
  {
   "cell_type": "code",
   "execution_count": null,
   "metadata": {
    "scrolled": true
   },
   "outputs": [],
   "source": [
    "for cluster in np.arange(0, num_clusters):\n",
    "    print('-----Cluster: ', cluster,'------')\n",
    "    clustnamestr = 'cluster_'+str(cluster)+'_'\n",
    "    \n",
    "    print('Loading and processing data')\n",
    "    driver_list = labeled_drivers[labeled_drivers['Agglom Cluster Number']==cluster]['Unique Driver ID'].values\n",
    "    data = full_data[full_data['Driver ID'].isin(driver_list)].copy(deep=True).reset_index(drop=True)\n",
    "    data = process_df(data)\n",
    "    \n",
    "    print('-----Fitting GMMs----')\n",
    "    \n",
    "    for loc in ['home', 'other', 'work', 'mud']:\n",
    "        print('Location ', loc)\n",
    "        subset = data[data['location']==loc]\n",
    "        if len(subset) > 0:\n",
    "            if loc=='other':\n",
    "                speed_set = ['fast', 'slow']\n",
    "            else:\n",
    "                speed_set = ['slow']\n",
    "            for speed in speed_set:\n",
    "                print('Speed ', speed)\n",
    "                subset1 = subset[subset['fast']==speed]\n",
    "                if len(subset1) > 0:\n",
    "                    for weekend in ['weekday','weekend']:\n",
    "                        print('Weekday ', weekend)\n",
    "                        subset2 = subset1[subset1['weekend']==weekend]\n",
    "                        if len(subset2) > 0:\n",
    "                            name_str = clustnamestr+loc+'_'+speed+'_'+weekend+'_'\n",
    "                            fit_gmm(subset2, name_str, 'NewData/AllGMMs/')\n",
    "\n"
   ]
  },
  {
   "cell_type": "markdown",
   "metadata": {},
   "source": [
    "# Reopen each and select optimal K"
   ]
  },
  {
   "cell_type": "code",
   "execution_count": null,
   "metadata": {},
   "outputs": [],
   "source": [
    "# walk through each option:\n",
    "# note, will not exist for segments that do not exist in the data\n",
    "\n",
    "clust_num = 0\n",
    "clustnamestr = 'cluster_'+str(clust_num)+'_'\n",
    "loc = 'mud'\n",
    "location_speed = 'mud_slow'\n",
    "weekday = 'weekend'\n",
    "name_str = clustnamestr+location_speed+'_'+weekday+'_'\n",
    "\n",
    "fit_data = pd.read_csv('NewData/AllGMMs/'+name_str+'_aic.csv', index_col=0)\n",
    "plt.figure()\n",
    "plt.plot(fit_data['num_components'], fit_data['aic'])\n",
    "plt.show()"
   ]
  },
  {
   "cell_type": "code",
   "execution_count": null,
   "metadata": {},
   "outputs": [],
   "source": [
    "# from the plot, select the optimal number of clusters\n",
    "selection = 8\n",
    "\n",
    "\n",
    "# copies file over into main data folder\n",
    "if loc == 'other':\n",
    "    shutil.copyfile('NewData/AllGMMs/'+name_str+'_'+str(selection)+'components_gmm.p', 'NewData/GMMs/'+weekday+'_'+location_speed+'_'+str(clust_num)+'.p')\n",
    "else:\n",
    "    shutil.copyfile('NewData/AllGMMs/'+name_str+'_'+str(selection)+'components_gmm.p', 'NewData/GMMs/'+weekday+'_'+loc+'_'+str(clust_num)+'.p')"
   ]
  }
 ],
 "metadata": {
  "kernelspec": {
   "display_name": "Python 3",
   "language": "python",
   "name": "python3"
  },
  "language_info": {
   "codemirror_mode": {
    "name": "ipython",
    "version": 3
   },
   "file_extension": ".py",
   "mimetype": "text/x-python",
   "name": "python",
   "nbconvert_exporter": "python",
   "pygments_lexer": "ipython3",
   "version": "3.7.4"
  }
 },
 "nbformat": 4,
 "nbformat_minor": 4
}
